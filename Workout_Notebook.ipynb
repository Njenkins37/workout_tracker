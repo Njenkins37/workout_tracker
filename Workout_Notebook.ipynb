{
 "cells": [
  {
   "cell_type": "code",
   "execution_count": 1,
   "id": "2a8e2633",
   "metadata": {},
   "outputs": [
    {
     "name": "stdout",
     "output_type": "stream",
     "text": [
      "Requirement already satisfied: mysql-connector-python in /Users/nickjenkins/miniconda3/envs/env/lib/python3.11/site-packages (8.2.0)\r\n",
      "Requirement already satisfied: protobuf<=4.21.12,>=4.21.1 in /Users/nickjenkins/miniconda3/envs/env/lib/python3.11/site-packages (from mysql-connector-python) (4.21.12)\r\n"
     ]
    }
   ],
   "source": [
    "!pip install mysql-connector-python"
   ]
  },
  {
   "cell_type": "code",
   "execution_count": 1,
   "id": "ab7ec708",
   "metadata": {},
   "outputs": [],
   "source": [
    "#from sqlalchemy import create_engine\n",
    "import mysql.connector\n",
    "from ipywidgets import widgets\n",
    "from IPython.display import display\n",
    "import pandas as pd\n",
    "import time"
   ]
  },
  {
   "cell_type": "code",
   "execution_count": 2,
   "id": "72c09120",
   "metadata": {},
   "outputs": [],
   "source": [
    "class Workout:\n",
    "    def __init__(self,date, lift_name, sets, reps, weight):\n",
    "        self.date = date\n",
    "        self.lift_name = lift_name\n",
    "        self.sets = sets\n",
    "        self.reps = reps\n",
    "        self.weight = weight\n",
    "        \n",
    "    def __str__(self):\n",
    "        return f\"Date: {self.date}, Lift: {self.lift_name}, Sets: {self.sets}, Reps: {self.reps}, Weight: {self.weight}\"\n",
    "    "
   ]
  },
  {
   "cell_type": "code",
   "execution_count": 3,
   "id": "91e8ecd0",
   "metadata": {},
   "outputs": [],
   "source": [
    "config = {\n",
    "    'user' : 'root', \n",
    "    'password' : '', \n",
    "    'host' : 'localhost', \n",
    "    'database' : 'workouts'\n",
    "}\n",
    "\n",
    "conn = mysql.connector.connect(**config)\n",
    "\n",
    "curosr = conn.cursor()"
   ]
  },
  {
   "cell_type": "code",
   "execution_count": 4,
   "id": "8e8c6a5b",
   "metadata": {},
   "outputs": [
    {
     "data": {
      "application/vnd.jupyter.widget-view+json": {
       "model_id": "d5f2a5bf4ac4486689e2a96f84e70c89",
       "version_major": 2,
       "version_minor": 0
      },
      "text/plain": [
       "HBox(children=(Text(value='', description='Workout Name'), Text(value='6', description='Number of Exercises:')…"
      ]
     },
     "metadata": {},
     "output_type": "display_data"
    }
   ],
   "source": [
    "text_widget1 = widgets.Text(value=\"\", description='Workout Name')\n",
    "text_widget2 = widgets.Text(value='6', description = 'Number of Exercises:')\n",
    "date_widget = widgets.Text(value='', description = 'Date')\n",
    "workout_list =[]\n",
    "widget_list =[]\n",
    "hbox = widgets.HBox([text_widget1, text_widget2, date_widget])\n",
    "\n",
    "display(hbox)"
   ]
  },
  {
   "cell_type": "code",
   "execution_count": 7,
   "id": "45024ad7",
   "metadata": {
    "scrolled": false
   },
   "outputs": [
    {
     "data": {
      "application/vnd.jupyter.widget-view+json": {
       "model_id": "c7aaf96ef9694be5b0d7321fd8bb2fb5",
       "version_major": 2,
       "version_minor": 0
      },
      "text/plain": [
       "HBox(children=(VBox(children=(Text(value='', description='Lift'), Text(value='', description='Lift'), Text(val…"
      ]
     },
     "metadata": {},
     "output_type": "display_data"
    }
   ],
   "source": [
    "workout_name = text_widget1.value\n",
    "number = int(text_widget2.value)\n",
    "date = date_widget.value\n",
    "widget_list.clear()\n",
    "\n",
    "widget_dictionary = {}\n",
    "\n",
    "lift_label = widgets.Label(value=\"Lift\")\n",
    "rep_label = widgets.Label(value=\"Reps\")\n",
    "set_label = widgets.Label(value=\"Sets\")\n",
    "weight_label = widgets.Label(value=\"Weights\")\n",
    "\n",
    "\n",
    "for i in range(1, (number +1)):\n",
    "    var_name = f\"widget{i}\"\n",
    "    var_value = widgets.Text(description=\"Lift\")\n",
    "    widget_dictionary[var_name] = var_value\n",
    "\n",
    "count = 1\n",
    "for key, value in widget_dictionary.items():\n",
    "    if count <= number:\n",
    "        widget_list.append(value)\n",
    "        count = count + 1\n",
    "    else:\n",
    "        break\n",
    "        \n",
    "vbox1 = widgets.VBox(widget_list)\n",
    "\n",
    "\n",
    "for i in range(number, number * 2):\n",
    "    var_name = f\"widget{i}\"\n",
    "    var_value = widgets.Text(description=\"Sets\")\n",
    "    widget_dictionary[var_name] = var_value\n",
    "\n",
    "for index, (key, value) in enumerate(widget_dictionary.items()):\n",
    "    if index >= number -1:\n",
    "        widget_list.append(value)\n",
    "\n",
    "vbox2 = widgets.VBox(widget_list[number:])\n",
    "\n",
    "for i in range((number * 2), number * 3):\n",
    "    var_name = f\"widget{i}\"\n",
    "    var_value = widgets.Text(description=\"Reps\")\n",
    "    widget_dictionary[var_name] = var_value\n",
    "\n",
    "for index, (key, value) in enumerate(widget_dictionary.items()):\n",
    "    if index >= (number * 2)-1:\n",
    "        widget_list.append(value)\n",
    "        \n",
    "vbox3 = widgets.VBox(widget_list[(number*2):])\n",
    "\n",
    "for i in range(number*3, number*4):\n",
    "    var_name = f\"widget{i}\"\n",
    "    var_value = widgets.Text(description=\"Weight\")\n",
    "    widget_dictionary[var_name]=var_value\n",
    "\n",
    "for index, (key, value) in enumerate(widget_dictionary.items()):\n",
    "    if index >= number *3 -1:\n",
    "        widget_list.append(value)\n",
    "        \n",
    "vbox4 = widgets.VBox(widget_list[(number *3):])\n",
    "\n",
    "hbox = widgets.HBox([vbox1, vbox2, vbox3, vbox4])\n",
    "\n",
    "display(hbox)\n",
    "#for key, value in widget_dictionary.items():\n",
    "    #display(value)"
   ]
  },
  {
   "cell_type": "code",
   "execution_count": 8,
   "id": "3ce352fe",
   "metadata": {},
   "outputs": [
    {
     "name": "stdout",
     "output_type": "stream",
     "text": [
      "Date: 11/27/2023, Lift: Shoulder Press, Sets: 4, Reps: 17, Weight: 105\n",
      "Date: 11/27/2023, Lift: Pull Ups, Sets: 4, Reps: 32, Weight: 0\n",
      "Date: 11/27/2023, Lift: Tricep Extensions, Sets: 3, Reps: 18, Weight: 57.5\n",
      "Date: 11/27/2023, Lift: Seated Shoulder Press, Sets: 3, Reps: 24, Weight: 90\n",
      "Date: 11/27/2023, Lift: Lat Pulldowns, Sets: 3, Reps: 19, Weight: 160\n",
      "Date: 11/27/2023, Lift: Preacher Curls, Sets: 3, Reps: 18, Weight: 90\n",
      "Date: 11/27/2023, Lift: Planks, Sets: 3, Reps: 3, Weight: 0\n"
     ]
    }
   ],
   "source": [
    "def get_values_from_vbox(vbox):\n",
    "    values = [widget.value for widget in vbox.children]\n",
    "    return values\n",
    "\n",
    "# Get values from each VBox\n",
    "values_vbox1 = get_values_from_vbox(vbox1)\n",
    "values_vbox2 = get_values_from_vbox(vbox2)\n",
    "values_vbox3 = get_values_from_vbox(vbox3)\n",
    "values_vbox4 = get_values_from_vbox(vbox4)\n",
    "\n",
    "workout_list =[]\n",
    "for i in range(0, number):\n",
    "    workout = Workout(date, values_vbox1[i], values_vbox2[i], values_vbox3[i], values_vbox4[i])\n",
    "    workout_list.append(workout)\n",
    "for workout in workout_list:\n",
    "    print(workout)"
   ]
  },
  {
   "cell_type": "code",
   "execution_count": 9,
   "id": "b4f77953",
   "metadata": {},
   "outputs": [],
   "source": [
    "def date_correction(date): \n",
    "    year = date[6:]\n",
    "    month = date[:2]\n",
    "    day = date[3:5]\n",
    "    corrected_date = str(year) + \"-\" + str(month) + \"-\" + str(day)\n",
    "    return corrected_date"
   ]
  },
  {
   "cell_type": "code",
   "execution_count": 10,
   "id": "1a922282",
   "metadata": {},
   "outputs": [],
   "source": [
    "cursor = conn.cursor()\n"
   ]
  },
  {
   "cell_type": "code",
   "execution_count": 11,
   "id": "39ca832c",
   "metadata": {},
   "outputs": [],
   "source": [
    "insert_query = \"INSERT INTO workouts.lifts (date, lift_name, sets, reps, weight) VALUES (%s, %s, %s, %s, %s)\"\n",
    "for workout in workout_list: \n",
    "    date2 = str(date_correction(workout.date))\n",
    "    lift_name = workout.lift_name\n",
    "    sets = workout.sets\n",
    "    reps = workout.reps\n",
    "    weight= workout.weight\n",
    "    data = (date2, lift_name, sets, reps, weight)\n",
    "    cursor.execute(insert_query, data)\n",
    "    conn.commit()"
   ]
  },
  {
   "cell_type": "code",
   "execution_count": 301,
   "id": "e8925542",
   "metadata": {},
   "outputs": [],
   "source": [
    "cursor.close()\n",
    "conn.close()"
   ]
  },
  {
   "cell_type": "code",
   "execution_count": null,
   "id": "1b816476",
   "metadata": {},
   "outputs": [],
   "source": []
  }
 ],
 "metadata": {
  "kernelspec": {
   "display_name": "Python 3 (ipykernel)",
   "language": "python",
   "name": "python3"
  },
  "language_info": {
   "codemirror_mode": {
    "name": "ipython",
    "version": 3
   },
   "file_extension": ".py",
   "mimetype": "text/x-python",
   "name": "python",
   "nbconvert_exporter": "python",
   "pygments_lexer": "ipython3",
   "version": "3.11.5"
  }
 },
 "nbformat": 4,
 "nbformat_minor": 5
}
